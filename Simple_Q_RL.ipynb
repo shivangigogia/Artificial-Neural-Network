{
 "cells": [
  {
   "cell_type": "code",
   "execution_count": 9,
   "metadata": {
    "collapsed": true
   },
   "outputs": [],
   "source": [
    "import random\n",
    "import numpy as np\n",
    "from matplotlib import pyplot as plt\n",
    "%matplotlib inline"
   ]
  },
  {
   "cell_type": "code",
   "execution_count": 10,
   "metadata": {
    "collapsed": true
   },
   "outputs": [],
   "source": [
    "NODES = 6\n",
    "GOAL = 4\n",
    "\n",
    "ALPHA = 0.02\n",
    "GAMMA = 0.85\n",
    "EXPLORE_PROB = 1.0"
   ]
  },
  {
   "cell_type": "code",
   "execution_count": null,
   "metadata": {
    "collapsed": true
   },
   "outputs": [],
   "source": []
  },
  {
   "cell_type": "code",
   "execution_count": null,
   "metadata": {
    "collapsed": false
   },
   "outputs": [],
   "source": []
  },
  {
   "cell_type": "code",
   "execution_count": 11,
   "metadata": {
    "collapsed": false
   },
   "outputs": [
    {
     "data": {
      "text/plain": [
       "[1, 2, 5]"
      ]
     },
     "execution_count": 11,
     "metadata": {},
     "output_type": "execute_result"
    }
   ],
   "source": [
    "def get_actions(current):\n",
    "    actions = []\n",
    "    for rx in xrange(NODES):\n",
    "        if (current, rx) in R:\n",
    "            actions.append(rx)\n",
    "    return actions\n",
    "\n",
    "get_actions(0)"
   ]
  },
  {
   "cell_type": "code",
   "execution_count": 12,
   "metadata": {
    "collapsed": false
   },
   "outputs": [
    {
     "data": {
      "text/plain": [
       "[<matplotlib.lines.Line2D at 0x7f61d34c0190>]"
      ]
     },
     "execution_count": 12,
     "metadata": {},
     "output_type": "execute_result"
    },
    {
     "data": {
      "image/png": "[encoded data removed]",
      "text/plain": [
       "<Figure size 432x288 with 1 Axes>"
      ]
     },
     "metadata": {},
     "output_type": "display_data"
    }
   ],
   "source": [
    "def sigmoid(z):\n",
    "    return 1.0 / (1.0 + np.exp(-z))\n",
    "\n",
    "def decay(t, total_iter=100, initial_value=None):\n",
    "    z = ((t) / (0.08 * total_iter))\n",
    "    return sigmoid(-1 * z + 6)\n",
    "\n",
    "val = []\n",
    "N = 1000\n",
    "for ix in np.linspace(-1, N, 200):\n",
    "    val.append(decay(ix, N, 1.0))\n",
    "    \n",
    "plt.plot(np.linspace(0, N, 200), val)\n",
    "\n"
   ]
  },
  {
   "cell_type": "code",
   "execution_count": 14,
   "metadata": {
    "collapsed": true
   },
   "outputs": [],
   "source": [
    "R = {\n",
    "(0, 1): 0,\n",
    "(0, 2): 0,\n",
    "(0, 5): -4,\n",
    "(1, 0): -1,\n",
    "(1, 2): 5,\n",
    "(1, 3): 2,\n",
    "(1, 5): 0,\n",
    "(2, 0): -5,\n",
    "(2, 1): 0,\n",
    "(2, 3): 10,\n",
    "(2, 5): 8,\n",
    "(3, 0): 5,\n",
    "(3, 1): -3,\n",
    "(3, 2): 4,\n",
    "(3, 4): 50,\n",
    "(3, 5): 2,\n",
    "(4, 0): -10,\n",
    "(4, 1): -5,\n",
    "(4, 2): -20,\n",
    "(4, 3): 0,\n",
    "(4, 4): 100,\n",
    "(4, 5): -50,\n",
    "(5, 0): -15,\n",
    "(5, 1): 2,\n",
    "(5, 2): -7,\n",
    "(5, 3): 0,\n",
    "(5, 4): 70,\n",
    "}\n",
    "\n",
    "Q = {}"
   ]
  },
  {
   "cell_type": "code",
   "execution_count": 6,
   "metadata": {
    "collapsed": true
   },
   "outputs": [],
   "source": []
  },
  {
   "cell_type": "code",
   "execution_count": 25,
   "metadata": {
    "collapsed": false,
    "scrolled": true
   },
   "outputs": [
    {
     "name": "stdout",
     "output_type": "stream",
     "text": [
      "0 1 5 3 2 \n",
      "Episode: 0 | Reward: 4\n",
      "0 5 4 \n",
      "Episode: 1 | Reward: 66\n",
      "0 1 5 3 1 \n",
      "Episode: 2 | Reward: -3\n",
      "0 2 0 2 3 \n",
      "Episode: 3 | Reward: 5\n",
      "0 5 3 1 2 \n",
      "Episode: 4 | Reward: -2\n",
      "0 1 2 1 0 \n",
      "Episode: 5 | Reward: 4\n",
      "0 2 3 1 5 \n",
      "Episode: 6 | Reward: 7\n",
      "0 5 1 0 2 \n",
      "Episode: 7 | Reward: -3\n",
      "0 5 0 5 4 \n",
      "Episode: 8 | Reward: 47\n",
      "0 5 4 \n",
      "Episode: 9 | Reward: 66\n",
      "0 2 3 0 2 \n",
      "Episode: 10 | Reward: 15\n",
      "0 1 0 5 0 \n",
      "Episode: 11 | Reward: -20\n",
      "0 5 4 \n",
      "Episode: 12 | Reward: 66\n",
      "0 5 4 \n",
      "Episode: 13 | Reward: 66\n",
      "0 1 3 1 3 \n",
      "Episode: 14 | Reward: 1\n",
      "0 2 5 2 0 \n",
      "Episode: 15 | Reward: -4\n",
      "0 5 0 2 5 \n",
      "Episode: 16 | Reward: -11\n",
      "0 2 0 2 0 \n",
      "Episode: 17 | Reward: -10\n",
      "0 2 1 3 4 \n",
      "Episode: 18 | Reward: 52\n",
      "0 1 2 1 5 \n",
      "Episode: 19 | Reward: 5\n",
      "0 5 3 0 2 \n",
      "Episode: 20 | Reward: 1\n",
      "0 2 3 1 0 \n",
      "Episode: 21 | Reward: 6\n",
      "0 5 1 2 3 \n",
      "Episode: 22 | Reward: 13\n",
      "0 2 5 1 3 \n",
      "Episode: 23 | Reward: 12\n",
      "0 1 3 2 0 \n",
      "Episode: 24 | Reward: 1\n",
      "0 1 0 1 3 \n",
      "Episode: 25 | Reward: 1\n",
      "0 5 1 2 5 \n",
      "Episode: 26 | Reward: 11\n",
      "0 1 0 5 2 \n",
      "Episode: 27 | Reward: -12\n",
      "0 5 4 \n",
      "Episode: 28 | Reward: 66\n",
      "0 5 4 \n",
      "Episode: 29 | Reward: 66\n",
      "0 1 3 0 1 \n",
      "Episode: 30 | Reward: 7\n",
      "0 2 1 2 0 \n",
      "Episode: 31 | Reward: 0\n",
      "0 1 3 4 \n",
      "Episode: 32 | Reward: 52\n",
      "0 2 5 4 \n",
      "Episode: 33 | Reward: 78\n",
      "0 1 0 1 0 \n",
      "Episode: 34 | Reward: -2\n",
      "0 2 0 5 1 \n",
      "Episode: 35 | Reward: -7\n",
      "0 2 3 1 2 \n",
      "Episode: 36 | Reward: 12\n",
      "0 1 3 4 \n",
      "Episode: 37 | Reward: 52\n",
      "0 2 0 2 5 \n",
      "Episode: 38 | Reward: 3\n",
      "0 5 2 5 1 \n",
      "Episode: 39 | Reward: -1\n",
      "0 2 5 1 0 \n",
      "Episode: 40 | Reward: 9\n",
      "0 2 3 4 \n",
      "Episode: 41 | Reward: 60\n",
      "0 2 3 1 2 \n",
      "Episode: 42 | Reward: 12\n",
      "0 2 3 4 \n",
      "Episode: 43 | Reward: 60\n",
      "0 2 3 5 4 \n",
      "Episode: 44 | Reward: 82\n",
      "0 1 3 1 5 \n",
      "Episode: 45 | Reward: -1\n",
      "0 2 3 0 2 \n",
      "Episode: 46 | Reward: 15\n",
      "0 5 2 3 4 \n",
      "Episode: 47 | Reward: 49\n",
      "0 5 4 \n",
      "Episode: 48 | Reward: 66\n",
      "0 2 5 2 3 \n",
      "Episode: 49 | Reward: 11\n",
      "0 2 1 0 2 \n",
      "Episode: 50 | Reward: -1\n",
      "0 2 3 4 \n",
      "Episode: 51 | Reward: 60\n",
      "0 5 4 \n",
      "Episode: 52 | Reward: 66\n",
      "0 2 3 4 \n",
      "Episode: 53 | Reward: 60\n",
      "0 5 4 \n",
      "Episode: 54 | Reward: 66\n",
      "0 2 3 4 \n",
      "Episode: 55 | Reward: 60\n",
      "0 5 4 \n",
      "Episode: 56 | Reward: 66\n",
      "0 2 3 5 1 \n",
      "Episode: 57 | Reward: 14\n",
      "0 2 3 4 \n",
      "Episode: 58 | Reward: 60\n",
      "0 1 2 3 4 \n",
      "Episode: 59 | Reward: 65\n",
      "0 2 3 4 \n",
      "Episode: 60 | Reward: 60\n",
      "0 2 3 4 \n",
      "Episode: 61 | Reward: 60\n",
      "0 2 3 4 \n",
      "Episode: 62 | Reward: 60\n",
      "0 2 3 4 \n",
      "Episode: 63 | Reward: 60\n",
      "0 2 3 1 2 \n",
      "Episode: 64 | Reward: 12\n",
      "0 2 3 4 \n",
      "Episode: 65 | Reward: 60\n",
      "0 2 3 4 \n",
      "Episode: 66 | Reward: 60\n",
      "0 2 3 4 \n",
      "Episode: 67 | Reward: 60\n",
      "0 2 3 4 \n",
      "Episode: 68 | Reward: 60\n",
      "0 2 3 4 \n",
      "Episode: 69 | Reward: 60\n",
      "0 2 3 4 \n",
      "Episode: 70 | Reward: 60\n",
      "0 2 3 4 \n",
      "Episode: 71 | Reward: 60\n",
      "0 2 3 4 \n",
      "Episode: 72 | Reward: 60\n",
      "0 2 3 4 \n",
      "Episode: 73 | Reward: 60\n",
      "0 2 3 4 \n",
      "Episode: 74 | Reward: 60\n",
      "0 2 3 4 \n",
      "Episode: 75 | Reward: 60\n",
      "0 2 3 4 \n",
      "Episode: 76 | Reward: 60\n",
      "0 2 3 4 \n",
      "Episode: 77 | Reward: 60\n",
      "0 2 3 4 \n",
      "Episode: 78 | Reward: 60\n",
      "0 2 3 4 \n",
      "Episode: 79 | Reward: 60\n",
      "0 2 3 4 \n",
      "Episode: 80 | Reward: 60\n",
      "0 2 3 4 \n",
      "Episode: 81 | Reward: 60\n",
      "0 2 3 4 \n",
      "Episode: 82 | Reward: 60\n",
      "0 2 3 4 \n",
      "Episode: 83 | Reward: 60\n",
      "0 2 3 4 \n",
      "Episode: 84 | Reward: 60\n",
      "0 2 3 4 \n",
      "Episode: 85 | Reward: 60\n",
      "0 2 3 4 \n",
      "Episode: 86 | Reward: 60\n",
      "0 2 3 4 \n",
      "Episode: 87 | Reward: 60\n",
      "0 2 3 4 \n",
      "Episode: 88 | Reward: 60\n",
      "0 2 3 4 \n",
      "Episode: 89 | Reward: 60\n",
      "0 2 3 4 \n",
      "Episode: 90 | Reward: 60\n",
      "0 2 3 4 \n",
      "Episode: 91 | Reward: 60\n",
      "0 2 3 4 \n",
      "Episode: 92 | Reward: 60\n",
      "0 2 3 4 \n",
      "Episode: 93 | Reward: 60\n",
      "0 2 3 4 \n",
      "Episode: 94 | Reward: 60\n",
      "0 2 3 4 \n",
      "Episode: 95 | Reward: 60\n",
      "0 2 3 4 \n",
      "Episode: 96 | Reward: 60\n",
      "0 2 3 4 \n",
      "Episode: 97 | Reward: 60\n",
      "0 2 3 4 \n",
      "Episode: 98 | Reward: 60\n",
      "0 2 3 4 \n",
      "Episode: 99 | Reward: 60\n"
     ]
    }
   ],
   "source": [
    "N_ep = 100\n",
    "EXPLORE = True\n",
    "display_path = True\n",
    "all_rewards = []\n",
    "for ep in range(N_ep):\n",
    "    pos = 0\n",
    "    rew = 0\n",
    "    steps = 0\n",
    "    if display_path:\n",
    "        print pos,\n",
    "    while (not pos == GOAL) and steps < 4:\n",
    "    # for kx in range(20):\n",
    "        # print pos\n",
    "        steps += 1\n",
    "        p_act = get_actions(pos)\n",
    "        \n",
    "        best = []\n",
    "        q_best = None\n",
    "        \n",
    "        for ac in p_act:\n",
    "            rq = Q.setdefault((pos, ac), 0)\n",
    "            #print 'rq:', rq\n",
    "            if rq > q_best:\n",
    "                q_best = rq\n",
    "                best = [ac]\n",
    "            elif rq == q_best:\n",
    "                best.append(ac)\n",
    "        \n",
    "        # define exploration\n",
    "        explore_prob = decay(ep, N_ep, EXPLORE_PROB)\n",
    "        \n",
    "        if np.random.random() < explore_prob and EXPLORE:\n",
    "            nxt_pos = random.choice(p_act)\n",
    "        else:\n",
    "            nxt_pos = random.choice(best)\n",
    "        if display_path:\n",
    "            print nxt_pos,\n",
    "        \n",
    "        nxt_p_ac = get_actions(nxt_pos)\n",
    "        \n",
    "        nq_best = None\n",
    "        \n",
    "        for ac in nxt_p_ac:\n",
    "            rq = Q.setdefault((nxt_pos, ac), 0)\n",
    "            nq_best = max(nq_best, rq)\n",
    "        \n",
    "        Q[(pos, nxt_pos)] = (1- ALPHA)*Q[(pos, nxt_pos)] + ALPHA*(R[(pos, nxt_pos)] + GAMMA*nq_best)\n",
    "        rew += R[(pos, nxt_pos)]\n",
    "        pos = nxt_pos\n",
    "    if display_path:\n",
    "        print \"\\nEpisode:\", ep, \"| Reward:\", rew\n",
    "    all_rewards.append(rew)"
   ]
  },
  {
   "cell_type": "code",
   "execution_count": 26,
   "metadata": {
    "collapsed": false,
    "scrolled": false
   },
   "outputs": [
    {
     "name": "stdout",
     "output_type": "stream",
     "text": [
      "(0, 1) 27.0336135118\n",
      "(0, 2) 44.5578944955\n",
      "(0, 5) 41.3724521119\n",
      "(1, 0) 20.7210251557\n",
      "(1, 2) 40.8848493292\n",
      "(1, 3) 29.2187006384\n",
      "(1, 5) 25.3679449869\n",
      "(2, 0) 21.1473447432\n",
      "(2, 1) 17.1839030227\n",
      "(2, 3) 52.4727149279\n",
      "(2, 5) 41.7017379032\n",
      "(3, 0) 17.2556722223\n",
      "(3, 1) 10.846016667\n",
      "(3, 2) 18.1555393892\n",
      "(3, 4) 49.994015528\n",
      "(3, 5) 19.1353957953\n",
      "(4, 0) 0\n",
      "(4, 1) 0\n",
      "(4, 2) 0\n",
      "(4, 3) 0\n",
      "(4, 4) 0\n",
      "(4, 5) 0\n",
      "(5, 0) 10.2262737981\n",
      "(5, 1) 16.7376010663\n",
      "(5, 2) 18.7280525316\n",
      "(5, 3) 21.5185214202\n",
      "(5, 4) 62.1020530041\n"
     ]
    }
   ],
   "source": [
    "for ax in range(NODES):\n",
    "    for bx in range(NODES):\n",
    "        if (ax, bx) in Q:\n",
    "            print (ax, bx), Q[(ax, bx)]"
   ]
  },
  {
   "cell_type": "code",
   "execution_count": 20,
   "metadata": {
    "collapsed": false
   },
   "outputs": [
    {
     "data": {
      "image/png": "[encoded data removed]",
      "text/plain": [
       "<Figure size 1440x720 with 1 Axes>"
      ]
     },
     "metadata": {},
     "output_type": "display_data"
    }
   ],
   "source": [
    "plt.figure(0, figsize=(20, 10))\n",
    "\n",
    "plt.plot(all_rewards)\n",
    "plt.show()"
   ]
  },
  {
   "cell_type": "code",
   "execution_count": null,
   "metadata": {
    "collapsed": true
   },
   "outputs": [],
   "source": []
  },
  {
   "cell_type": "code",
   "execution_count": null,
   "metadata": {
    "collapsed": true
   },
   "outputs": [],
   "source": []
  },
  {
   "cell_type": "code",
   "execution_count": null,
   "metadata": {
    "collapsed": true
   },
   "outputs": [],
   "source": []
  },
  {
   "cell_type": "code",
   "execution_count": null,
   "metadata": {
    "collapsed": true
   },
   "outputs": [],
   "source": []
  },
  {
   "cell_type": "code",
   "execution_count": null,
   "metadata": {
    "collapsed": true
   },
   "outputs": [],
   "source": []
  },
  {
   "cell_type": "code",
   "execution_count": null,
   "metadata": {
    "collapsed": true
   },
   "outputs": [],
   "source": []
  },
  {
   "cell_type": "code",
   "execution_count": null,
   "metadata": {
    "collapsed": true
   },
   "outputs": [],
   "source": [
    "R = {\n",
    "(0, 1): 0,\n",
    "(0, 2): 0,\n",
    "(0, 5): -4,\n",
    "(1, 0): -1,\n",
    "(1, 2): 0,\n",
    "(1, 3): 0,\n",
    "(1, 5): 0,\n",
    "(2, 0): 0,\n",
    "(2, 1): 0,\n",
    "(2, 3): 0,\n",
    "(2, 5): 0,\n",
    "(3, 0): 0,\n",
    "(3, 1): 0,\n",
    "(3, 2): 0,\n",
    "(3, 4): 50,\n",
    "(3, 5): 0,\n",
    "(4, 0): -10,\n",
    "(4, 1): -5,\n",
    "(4, 2): -20,\n",
    "(4, 3): 0,\n",
    "(4, 4): 100,\n",
    "(4, 5): -50,\n",
    "(5, 0): -15,\n",
    "(5, 1): 0,\n",
    "(5, 2): -7,\n",
    "(5, 3): 0,\n",
    "(5, 4): 70,\n",
    "}\n",
    "\n",
    "Q = {}"
   ]
  }
 ],
 "metadata": {
  "kernelspec": {
   "display_name": "Python 2",
   "language": "python",
   "name": "python2"
  },
  "language_info": {
   "codemirror_mode": {
    "name": "ipython",
    "version": 2
   },
   "file_extension": ".py",
   "mimetype": "text/x-python",
   "name": "python",
   "nbconvert_exporter": "python",
   "pygments_lexer": "ipython2",
   "version": "2.7.12"
  }
 },
 "nbformat": 4,
 "nbformat_minor": 2
}
